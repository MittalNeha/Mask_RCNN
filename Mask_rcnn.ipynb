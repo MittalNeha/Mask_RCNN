{
  "cells": [
    {
      "cell_type": "markdown",
      "metadata": {
        "id": "view-in-github",
        "colab_type": "text"
      },
      "source": [
        "<a href=\"https://colab.research.google.com/github/MittalNeha/Mask_RCNN/blob/master/Mask_rcnn.ipynb\" target=\"_parent\"><img src=\"https://colab.research.google.com/assets/colab-badge.svg\" alt=\"Open In Colab\"/></a>"
      ]
    },
    {
      "cell_type": "code",
      "execution_count": null,
      "metadata": {
        "id": "WhYM2mNoMWJo"
      },
      "outputs": [],
      "source": [
        "from google.colab import drive\n",
        "drive.mount('/content/drive')"
      ]
    },
    {
      "cell_type": "code",
      "execution_count": null,
      "metadata": {
        "id": "jzmfZ85nOde5"
      },
      "outputs": [],
      "source": [
        "#!git clone https://github.com/akTwelve/Mask_RCNN.git"
      ]
    },
    {
      "cell_type": "code",
      "execution_count": null,
      "metadata": {
        "id": "hsu50NCQMd1G"
      },
      "outputs": [],
      "source": [
        "! git clone https://github.com/MittalNeha/Mask_rcnn.git"
      ]
    },
    {
      "cell_type": "code",
      "execution_count": null,
      "metadata": {
        "id": "NNBnmpyBQATS"
      },
      "outputs": [],
      "source": [
        "%cd Mask_RCNN/\n",
        "!pip install -r requirements.txt"
      ]
    },
    {
      "cell_type": "code",
      "execution_count": null,
      "metadata": {
        "id": "NKQgDGtiQHeh"
      },
      "outputs": [],
      "source": [
        "%cd /content/Mask_RCNN/mrcnn\n",
        "from m_rcnn import *\n",
        "%matplotlib inline"
      ]
    },
    {
      "cell_type": "code",
      "execution_count": null,
      "metadata": {
        "id": "i_yc7SPVM7JT"
      },
      "outputs": [],
      "source": [
        "#Loading dataset\n",
        "\n",
        "!wget http://convo-care.com/data/images.zip\n",
        "# Extract Images\n",
        "images_path = \"data/images.zip\"\n",
        "annotations_path = \"data/train.json\"\n",
        "annotations_val_path = \"data/val.json\"\n",
        "\n",
        "extract_images(os.path.join(\"/content/\",images_path), \"/content/dataset\")"
      ]
    },
    {
      "cell_type": "code",
      "execution_count": null,
      "metadata": {
        "id": "QNkSqOgIVvyZ"
      },
      "outputs": [],
      "source": [
        "dataset_train = load_image_dataset(os.path.join(\"/content/drive/My Drive/Mask_rcnn\", annotations_path), \"/content/dataset\", \"train\")\n",
        "dataset_val = load_image_dataset(os.path.join(\"/content/drive/My Drive/Mask_rcnn\", annotations_val_path), \"/content/dataset\", \"val\")\n",
        "class_number = dataset_train.count_classes()\n",
        "print('Train: %d' % len(dataset_train.image_ids))\n",
        "print('Validation: %d' % len(dataset_val.image_ids))\n",
        "print(\"Classes: {}\".format(class_number))"
      ]
    },
    {
      "cell_type": "code",
      "execution_count": null,
      "metadata": {
        "id": "hirxL8zaV2UB"
      },
      "outputs": [],
      "source": [
        "# Load image samples\n",
        "display_image_samples(dataset_train)"
      ]
    },
    {
      "cell_type": "markdown",
      "metadata": {
        "id": "5uhbi4rqWFZG"
      },
      "source": [
        "3. Training\n",
        "Train Mask RCNN on your custom Dataset."
      ]
    },
    {
      "cell_type": "code",
      "execution_count": null,
      "metadata": {
        "id": "AqEggFAwV-pI"
      },
      "outputs": [],
      "source": [
        "# Load Configuration\n",
        "config = CustomConfig(class_number)\n",
        "#config.display()\n",
        "model = load_training_model(config)"
      ]
    },
    {
      "cell_type": "code",
      "execution_count": null,
      "metadata": {
        "id": "WRj6NoelV-sn"
      },
      "outputs": [],
      "source": [
        "# Start Training\n",
        "# This operation might take a long time.\n",
        "train_head(model, dataset_train, dataset_train, config,6)"
      ]
    },
    {
      "cell_type": "code",
      "source": [
        "# train_head(model, dataset_train, dataset_train, config,20)"
      ],
      "metadata": {
        "id": "XJSkcPUz7cyM"
      },
      "execution_count": null,
      "outputs": []
    },
    {
      "cell_type": "code",
      "source": [
        "# train_head(model, dataset_train, dataset_train, config,40)"
      ],
      "metadata": {
        "id": "jQht7Rp9io40"
      },
      "execution_count": null,
      "outputs": []
    },
    {
      "cell_type": "markdown",
      "metadata": {
        "id": "aInqkwSHXyD9"
      },
      "source": [
        "4. Detection (test your model on a random image)"
      ]
    },
    {
      "cell_type": "code",
      "execution_count": null,
      "metadata": {
        "id": "SUxGAK7dV-4f"
      },
      "outputs": [],
      "source": [
        "# Load Test Model\n",
        "# The latest trained model will be loaded\n",
        "test_model, inference_config = load_test_model(class_number)"
      ]
    },
    {
      "cell_type": "code",
      "execution_count": null,
      "metadata": {
        "id": "lRT1Dd4TX4sY"
      },
      "outputs": [],
      "source": [
        "# Test on a random image\n",
        "test_random_image(test_model, dataset_val, inference_config)"
      ]
    },
    {
      "cell_type": "code",
      "execution_count": null,
      "metadata": {
        "id": "3rdjNKGJqiTh"
      },
      "outputs": [],
      "source": [
        "# Load Image\n",
        "from visualize import random_colors, get_mask_contours, draw_mask\n",
        "img = cv2.imread(\"/content/scd.jpeg\")\n",
        "\n",
        "test_model, inference_config = load_inference_model(1, \"/content/drive/MyDrive/Mask_rcnn/logs/object20220707T1548/mask_rcnn_object_0005.h5\")\n",
        "image = cv2.cvtColor(img, cv2.COLOR_BGR2RGB)\n",
        "\n",
        "# Detect results\n",
        "r = test_model.detect([image])[0]\n",
        "colors = random_colors(80)"
      ]
    },
    {
      "cell_type": "code",
      "execution_count": null,
      "metadata": {
        "id": "ub49aPn0rbKu"
      },
      "outputs": [],
      "source": [
        "from google.colab.patches import cv2_imshow\n",
        "# Get Coordinates and show it on the image\n",
        "object_count = len(r[\"class_ids\"])\n",
        "for i in range(object_count):\n",
        "    # 1. Mask\n",
        "    mask = r[\"masks\"][:, :, i]\n",
        "    contours = get_mask_contours(mask)\n",
        "    for cnt in contours:\n",
        "        cv2.polylines(img, [cnt], True, colors[i], 2)\n",
        "        img = draw_mask(img, [cnt], colors[i])"
      ]
    },
    {
      "cell_type": "code",
      "execution_count": null,
      "metadata": {
        "id": "0tiHeDjUrcZd"
      },
      "outputs": [],
      "source": [
        "cv2_imshow(img)"
      ]
    }
  ],
  "metadata": {
    "accelerator": "GPU",
    "colab": {
      "collapsed_sections": [],
      "name": "Mask_rcnn.ipynb",
      "provenance": [],
      "include_colab_link": true
    },
    "gpuClass": "standard",
    "kernelspec": {
      "display_name": "Python 3",
      "name": "python3"
    },
    "language_info": {
      "name": "python"
    }
  },
  "nbformat": 4,
  "nbformat_minor": 0
}